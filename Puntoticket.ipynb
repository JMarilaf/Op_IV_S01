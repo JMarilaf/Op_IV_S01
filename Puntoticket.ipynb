{
  "nbformat": 4,
  "nbformat_minor": 0,
  "metadata": {
    "colab": {
      "name": "Puntoticket.ipynb",
      "provenance": [],
      "collapsed_sections": []
    },
    "kernelspec": {
      "name": "python3",
      "display_name": "Python 3"
    },
    "language_info": {
      "name": "python"
    }
  },
  "cells": [
    {
      "cell_type": "markdown",
      "source": [
        "# **Instalar librerías**"
      ],
      "metadata": {
        "id": "SwsvRcSdlLa2"
      }
    },
    {
      "cell_type": "code",
      "execution_count": null,
      "metadata": {
        "id": "9S3zLnghMCxT"
      },
      "outputs": [],
      "source": [
        "!pip install selenium\n",
        "!apt-get update\n",
        "!apt install chromium-chromedriver\n"
      ]
    },
    {
      "cell_type": "markdown",
      "source": [
        "# **Puntoticket**"
      ],
      "metadata": {
        "id": "YLUk54rWcbMo"
      }
    },
    {
      "cell_type": "code",
      "source": [
        "import sys\n",
        "import pandas as pd\n",
        "import datetime\n",
        "\n",
        "sys.path.insert(0, '/usr/lib/chromium-browser/chromedriver')\n",
        "from selenium import webdriver\n",
        "from selenium.webdriver.common.by import By\n",
        "options = webdriver.ChromeOptions()\n",
        "options.add_argument('--headless')\n",
        "options.add_argument('--no-sandbox')\n",
        "options.add_argument('--disable-dev-shm-usage')\n",
        "driver = webdriver.Chrome('chromedriver', options = options)\n",
        "\n",
        "#Guardar url para scraping\n",
        "driver.get('https://www.puntoticket.com/todos')\n",
        "\n",
        "#Hora para nombre de archivo\n",
        "hora = '{:%Y_%b_%d_%H_%M_%S}'.format(datetime.datetime.now())\n",
        "\n",
        "#Guardar lista de conciertos según el mes\n",
        "conciertosMes = driver.find_elements(By.CSS_SELECTOR, '#listado-eventos-shuffle > div')\n",
        "\n",
        "#Crear dataframe vacío con índice\n",
        "df = pd.DataFrame(columns = ['Nombre', 'Recinto', 'Comuna', 'Tipo_evento', 'Fecha', 'Imagen', 'Url'])\n",
        "\n",
        "#Ciclo para recorrer eventos por mes\n",
        "for concierto in conciertosMes:\n",
        "\n",
        "  conciertoDia = concierto.find_elements(By.CSS_SELECTOR, 'div > div > article')\n",
        "  i=0\n",
        "\n",
        "#Ciclo para recorrer evento diarios\n",
        "  for concierto in conciertoDia:\n",
        "\n",
        "    nombre = concierto.find_element(By.CSS_SELECTOR, 'a > div.evento--box > div:nth-child(2) > h3').text\n",
        "    aux =  concierto.find_element(By.CSS_SELECTOR, 'a > div.evento--box > div:nth-child(2) > p.descripcion').text\n",
        "    recinto = aux.split(' / ')[0].split(' - ')[0]\n",
        "\n",
        "    try:\n",
        "      comuna = aux.split(' / ')[0].split(' - ')[-1]\n",
        "    except:\n",
        "      comuna = ''\n",
        "\n",
        "    try:\n",
        "      tipo_evento = aux.split(' / ')[1]\n",
        "    except:\n",
        "      tipo_evento = ''\n",
        "\n",
        "    fecha = concierto.find_element(By.CSS_SELECTOR, 'a > div.evento--box > div:nth-child(2) > p.fecha').text\n",
        "    imagen = concierto.find_element(By.CSS_SELECTOR, 'a > div.gallery-inner > img').get_attribute('src')\n",
        "    url = concierto.find_element(By.CSS_SELECTOR, 'a').get_attribute('href')\n",
        "\n",
        "    df = df.append({ 'Nombre': nombre,\n",
        "                'Recinto': recinto,\n",
        "                'Comuna': comuna,\n",
        "                'Tipo_evento': tipo_evento,\n",
        "                'Fecha': fecha,\n",
        "                'Imagen': imagen,\n",
        "                'Url': url\n",
        "              }, ignore_index=True )\n",
        "    i = i + 1\n",
        "\n",
        "#Convertir dataframe en archivo CSV\n",
        "df.to_csv(f'Punto_Ticket-{hora}.csv')"
      ],
      "metadata": {
        "id": "ivRxTVFacCV2"
      },
      "execution_count": 7,
      "outputs": []
    }
  ]
}